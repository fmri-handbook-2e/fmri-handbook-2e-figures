{
 "cells": [
  {
   "cell_type": "markdown",
   "id": "7fbf674e",
   "metadata": {
    "lines_to_next_cell": 2
   },
   "source": [
    "Figures from Chapter \"Introduction\" of Poldrack et al., Handbook of fMRI Data Analysis"
   ]
  },
  {
   "cell_type": "code",
   "execution_count": null,
   "id": "dbee6925",
   "metadata": {
    "jupyter": {
     "outputs_hidden": false
    }
   },
   "outputs": [],
   "source": [
    "import numpy as np\n",
    "import pandas as pd\n",
    "import sys\n",
    "import os\n",
    "import scipy.io\n",
    "import git\n",
    "import matplotlib.pyplot as plt\n",
    "\n",
    "# use repo base directory as base dir\n",
    "repo = git.Repo(os.path.dirname(__file__),\n",
    "                search_parent_directories=True)\n",
    "repo_path = repo.git.rev_parse(\"--show-toplevel\")\n",
    "\n",
    "# use repo path rather than pip installing the module\n",
    "sys.path.append(repo_path)\n",
    "\n",
    "from fmrihandbook.utils.config import get_config  # noqa: E402\n",
    "from fmrihandbook.utils.figures import savefig  # noqa: E402\n",
    "from fmrihandbook.utils.pubmed import get_pubmed_query_results  # noqa: E402\n",
    "\n",
    "config = get_config(nbfile=__file__)\n",
    "if not os.path.exists(config.figure_dir):\n",
    "    os.makedirs(config.figure_dir)"
   ]
  },
  {
   "cell_type": "markdown",
   "id": "2015d2ab",
   "metadata": {},
   "source": [
    "\n",
    "# Figure 1: Pubmed hits for fMRI\n",
    "## Get counts of pubmed hits by year"
   ]
  },
  {
   "cell_type": "code",
   "execution_count": null,
   "id": "c8d6bc31",
   "metadata": {
    "jupyter": {
     "outputs_hidden": false
    },
    "lines_to_next_cell": 2
   },
   "outputs": [],
   "source": [
    "\n",
    "if not config.email:\n",
    "    raise Exception('you must first set your email address for your Entrez account')\n",
    "\n",
    "nhits = []\n",
    "years = []\n",
    "for year in range(1990, 2021):\n",
    "    query = '(\"fMRI\" OR \"functional MRI\" OR \"functional magnetic resonance imaging\") AND %d[DP]' % year\n",
    "    results = get_pubmed_query_results(query, config.email)\n",
    "    nhits.append(len(results['IdList']))\n",
    "    years.append(year)"
   ]
  },
  {
   "cell_type": "markdown",
   "id": "bb169b2c",
   "metadata": {},
   "source": [
    "## Plot hits by year"
   ]
  },
  {
   "cell_type": "code",
   "execution_count": null,
   "id": "bd6f0973",
   "metadata": {
    "jupyter": {
     "outputs_hidden": false
    }
   },
   "outputs": [],
   "source": [
    "\n",
    "fig = plt.figure(figsize=config.figsize)\n",
    "plt.plot(years, nhits)\n",
    "plt.xlabel('Year', fontsize=18)\n",
    "plt.ylabel('# of Pubmed abstracts', fontsize=18)\n",
    "\n",
    "savefig(fig, 'pubmed_abstracts_by_year', config)"
   ]
  },
  {
   "cell_type": "markdown",
   "id": "c9a48e1a",
   "metadata": {},
   "source": [
    "## Plot cumulative hits"
   ]
  },
  {
   "cell_type": "code",
   "execution_count": null,
   "id": "6822d4ee",
   "metadata": {
    "jupyter": {
     "outputs_hidden": false
    }
   },
   "outputs": [],
   "source": [
    "\n",
    "fig = plt.figure(figsize=config.figsize)\n",
    "cumhits = np.zeros(len(years))\n",
    "for i in range(len(years)):\n",
    "    cumhits[i] = np.sum(nhits[:(i + 1)])\n",
    "plt.plot(years, cumhits)\n",
    "plt.xlabel('Year', fontsize=18)\n",
    "plt.ylabel('Cumulative # of hits', fontsize=18)\n",
    "\n",
    "savefig(fig, 'pubmed_abstracts_cumulative', config)"
   ]
  },
  {
   "cell_type": "markdown",
   "id": "a07665ec",
   "metadata": {},
   "source": [
    "## Save data to tsv file"
   ]
  },
  {
   "cell_type": "code",
   "execution_count": null,
   "id": "44f7a101",
   "metadata": {
    "jupyter": {
     "outputs_hidden": false
    },
    "lines_to_next_cell": 2
   },
   "outputs": [],
   "source": [
    "hitsDf = pd.DataFrame({'years': years,\n",
    "                       'hits': nhits,\n",
    "                       'cumulativehits': cumhits})\n",
    "hitsDf.to_csv(\n",
    "    os.path.join(config.data_dir, 'pubmed_hits.tsv'),\n",
    "    index=False, sep='\\t')"
   ]
  },
  {
   "cell_type": "markdown",
   "id": "123558ed",
   "metadata": {},
   "source": [
    "# Figure 2: Hemodynamic response\n",
    "Using data provided by Stephen Engel"
   ]
  },
  {
   "cell_type": "code",
   "execution_count": null,
   "id": "5c7ce9fd",
   "metadata": {
    "jupyter": {
     "outputs_hidden": false
    }
   },
   "outputs": [],
   "source": [
    "\n",
    "data = scipy.io.loadmat(os.path.join(config.data_dir, 'forRuss.mat'))\n",
    "hrfdata = data['allmnresps']\n",
    "timepoints = np.arange(0, 16, 0.25)\n",
    "\n",
    "fig = plt.figure(figsize=config.figsize)\n",
    "plt.plot(timepoints, hrfdata[:, 1, :] * 100, linewidth=2)\n",
    "plt.ylabel('% change in BOLD signal', fontsize=18)\n",
    "plt.xlabel('Peristimulus time (secs)', fontsize=18)\n",
    "\n",
    "savefig(fig, 'hrf', config)"
   ]
  }
 ],
 "metadata": {
  "jupytext": {
   "formats": "ipynb,py:percent"
  },
  "kernelspec": {
   "display_name": "Python 3",
   "language": "python",
   "name": "python3"
  }
 },
 "nbformat": 4,
 "nbformat_minor": 5
}
